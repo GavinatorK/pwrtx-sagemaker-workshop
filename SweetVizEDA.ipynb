{
 "cells": [
  {
   "cell_type": "markdown",
   "id": "fc50f885",
   "metadata": {},
   "source": [
    "### Quick Correlation and Data Analysis\n",
    "\n",
    "Let's do a quick Analysis of our data to understand how the target Variable moves with the rest and how each variable is correlated with other variables to understand if we have multi collinear variables"
   ]
  },
  {
   "cell_type": "code",
   "execution_count": 1,
   "id": "39ab7616",
   "metadata": {
    "collapsed": true,
    "jupyter": {
     "outputs_hidden": true
    }
   },
   "outputs": [
    {
     "name": "stdout",
     "output_type": "stream",
     "text": [
      "Looking in indexes: https://pypi.org/simple, https://pip.repos.neuron.amazonaws.com\n",
      "Collecting sweetviz\n",
      "  Downloading sweetviz-2.1.3-py3-none-any.whl (15.1 MB)\n",
      "\u001b[2K     \u001b[90m━━━━━━━━━━━━━━━━━━━━━━━━━━━━━━━━━━━━━━━━\u001b[0m \u001b[32m15.1/15.1 MB\u001b[0m \u001b[31m33.4 MB/s\u001b[0m eta \u001b[36m0:00:00\u001b[0m00:01\u001b[0m00:01\u001b[0m\n",
      "\u001b[?25hRequirement already satisfied: numpy>=1.16.0 in /home/ec2-user/anaconda3/envs/python3/lib/python3.8/site-packages (from sweetviz) (1.20.3)\n",
      "Requirement already satisfied: importlib-resources>=1.2.0 in /home/ec2-user/anaconda3/envs/python3/lib/python3.8/site-packages (from sweetviz) (5.4.0)\n",
      "Requirement already satisfied: scipy>=1.3.2 in /home/ec2-user/anaconda3/envs/python3/lib/python3.8/site-packages (from sweetviz) (1.5.3)\n",
      "Requirement already satisfied: tqdm>=4.43.0 in /home/ec2-user/anaconda3/envs/python3/lib/python3.8/site-packages (from sweetviz) (4.62.3)\n",
      "Requirement already satisfied: pandas!=1.0.0,!=1.0.1,!=1.0.2,>=0.25.3 in /home/ec2-user/anaconda3/envs/python3/lib/python3.8/site-packages (from sweetviz) (1.3.4)\n",
      "Requirement already satisfied: jinja2>=2.11.1 in /home/ec2-user/anaconda3/envs/python3/lib/python3.8/site-packages (from sweetviz) (3.0.3)\n",
      "Requirement already satisfied: matplotlib>=3.1.3 in /home/ec2-user/anaconda3/envs/python3/lib/python3.8/site-packages (from sweetviz) (3.5.0)\n",
      "Requirement already satisfied: zipp>=3.1.0 in /home/ec2-user/anaconda3/envs/python3/lib/python3.8/site-packages (from importlib-resources>=1.2.0->sweetviz) (3.6.0)\n",
      "Requirement already satisfied: MarkupSafe>=2.0 in /home/ec2-user/anaconda3/envs/python3/lib/python3.8/site-packages (from jinja2>=2.11.1->sweetviz) (2.0.1)\n",
      "Requirement already satisfied: pyparsing>=2.2.1 in /home/ec2-user/anaconda3/envs/python3/lib/python3.8/site-packages (from matplotlib>=3.1.3->sweetviz) (3.0.6)\n",
      "Requirement already satisfied: kiwisolver>=1.0.1 in /home/ec2-user/anaconda3/envs/python3/lib/python3.8/site-packages (from matplotlib>=3.1.3->sweetviz) (1.3.2)\n",
      "Requirement already satisfied: cycler>=0.10 in /home/ec2-user/anaconda3/envs/python3/lib/python3.8/site-packages (from matplotlib>=3.1.3->sweetviz) (0.11.0)\n",
      "Requirement already satisfied: pillow>=6.2.0 in /home/ec2-user/anaconda3/envs/python3/lib/python3.8/site-packages (from matplotlib>=3.1.3->sweetviz) (9.0.1)\n",
      "Requirement already satisfied: python-dateutil>=2.7 in /home/ec2-user/anaconda3/envs/python3/lib/python3.8/site-packages (from matplotlib>=3.1.3->sweetviz) (2.8.2)\n",
      "Requirement already satisfied: packaging>=20.0 in /home/ec2-user/anaconda3/envs/python3/lib/python3.8/site-packages (from matplotlib>=3.1.3->sweetviz) (21.3)\n",
      "Requirement already satisfied: fonttools>=4.22.0 in /home/ec2-user/anaconda3/envs/python3/lib/python3.8/site-packages (from matplotlib>=3.1.3->sweetviz) (4.28.2)\n",
      "Requirement already satisfied: pytz>=2017.3 in /home/ec2-user/anaconda3/envs/python3/lib/python3.8/site-packages (from pandas!=1.0.0,!=1.0.1,!=1.0.2,>=0.25.3->sweetviz) (2021.3)\n",
      "Requirement already satisfied: six>=1.5 in /home/ec2-user/anaconda3/envs/python3/lib/python3.8/site-packages (from python-dateutil>=2.7->matplotlib>=3.1.3->sweetviz) (1.16.0)\n",
      "Installing collected packages: sweetviz\n",
      "Successfully installed sweetviz-2.1.3\n",
      "\u001b[33mWARNING: You are using pip version 22.0.3; however, version 22.0.4 is available.\n",
      "You should consider upgrading via the '/home/ec2-user/anaconda3/envs/python3/bin/python -m pip install --upgrade pip' command.\u001b[0m\u001b[33m\n",
      "\u001b[0m"
     ]
    }
   ],
   "source": [
    "!pip install sweetviz"
   ]
  },
  {
   "cell_type": "code",
   "execution_count": 1,
   "id": "9439ab77",
   "metadata": {},
   "outputs": [],
   "source": [
    "import pandas as pd"
   ]
  },
  {
   "cell_type": "code",
   "execution_count": 2,
   "id": "d7b18f75",
   "metadata": {},
   "outputs": [],
   "source": [
    "df=pd.read_csv('nasa_train_data.csv')"
   ]
  },
  {
   "cell_type": "code",
   "execution_count": 3,
   "id": "fe26a580",
   "metadata": {},
   "outputs": [
    {
     "data": {
      "text/html": [
       "<div>\n",
       "<style scoped>\n",
       "    .dataframe tbody tr th:only-of-type {\n",
       "        vertical-align: middle;\n",
       "    }\n",
       "\n",
       "    .dataframe tbody tr th {\n",
       "        vertical-align: top;\n",
       "    }\n",
       "\n",
       "    .dataframe thead th {\n",
       "        text-align: right;\n",
       "    }\n",
       "</style>\n",
       "<table border=\"1\" class=\"dataframe\">\n",
       "  <thead>\n",
       "    <tr style=\"text-align: right;\">\n",
       "      <th></th>\n",
       "      <th>Y</th>\n",
       "      <th>alt</th>\n",
       "      <th>Mach</th>\n",
       "      <th>TRA</th>\n",
       "      <th>T2</th>\n",
       "      <th>T24</th>\n",
       "      <th>T30</th>\n",
       "      <th>T48</th>\n",
       "      <th>T50</th>\n",
       "      <th>P15</th>\n",
       "      <th>P2</th>\n",
       "      <th>P21</th>\n",
       "      <th>P24</th>\n",
       "      <th>Ps30</th>\n",
       "      <th>P40</th>\n",
       "      <th>P50</th>\n",
       "      <th>Nf</th>\n",
       "      <th>Nc</th>\n",
       "      <th>Wf</th>\n",
       "    </tr>\n",
       "  </thead>\n",
       "  <tbody>\n",
       "    <tr>\n",
       "      <th>0</th>\n",
       "      <td>74</td>\n",
       "      <td>10005.0</td>\n",
       "      <td>0.448497</td>\n",
       "      <td>76.903748</td>\n",
       "      <td>502.420918</td>\n",
       "      <td>600.148034</td>\n",
       "      <td>1438.498187</td>\n",
       "      <td>1818.027714</td>\n",
       "      <td>1228.129848</td>\n",
       "      <td>15.806267</td>\n",
       "      <td>11.577097</td>\n",
       "      <td>16.046971</td>\n",
       "      <td>20.126624</td>\n",
       "      <td>331.293679</td>\n",
       "      <td>336.631827</td>\n",
       "      <td>12.629361</td>\n",
       "      <td>2160.926416</td>\n",
       "      <td>8591.373490</td>\n",
       "      <td>3.855337</td>\n",
       "    </tr>\n",
       "    <tr>\n",
       "      <th>1</th>\n",
       "      <td>74</td>\n",
       "      <td>10013.0</td>\n",
       "      <td>0.447741</td>\n",
       "      <td>76.903748</td>\n",
       "      <td>502.326114</td>\n",
       "      <td>600.055894</td>\n",
       "      <td>1438.350208</td>\n",
       "      <td>1817.682618</td>\n",
       "      <td>1227.879113</td>\n",
       "      <td>15.795477</td>\n",
       "      <td>11.568235</td>\n",
       "      <td>16.036017</td>\n",
       "      <td>20.113218</td>\n",
       "      <td>331.109867</td>\n",
       "      <td>336.446748</td>\n",
       "      <td>12.623033</td>\n",
       "      <td>2160.909333</td>\n",
       "      <td>8590.972866</td>\n",
       "      <td>3.852319</td>\n",
       "    </tr>\n",
       "    <tr>\n",
       "      <th>2</th>\n",
       "      <td>74</td>\n",
       "      <td>10017.0</td>\n",
       "      <td>0.448938</td>\n",
       "      <td>77.079529</td>\n",
       "      <td>502.416067</td>\n",
       "      <td>600.210756</td>\n",
       "      <td>1439.109101</td>\n",
       "      <td>1820.020627</td>\n",
       "      <td>1229.422522</td>\n",
       "      <td>15.807747</td>\n",
       "      <td>11.574866</td>\n",
       "      <td>16.048474</td>\n",
       "      <td>20.130956</td>\n",
       "      <td>331.753181</td>\n",
       "      <td>337.082502</td>\n",
       "      <td>12.637951</td>\n",
       "      <td>2161.819062</td>\n",
       "      <td>8593.031745</td>\n",
       "      <td>3.866201</td>\n",
       "    </tr>\n",
       "    <tr>\n",
       "      <th>3</th>\n",
       "      <td>74</td>\n",
       "      <td>10024.0</td>\n",
       "      <td>0.449883</td>\n",
       "      <td>77.079529</td>\n",
       "      <td>502.469893</td>\n",
       "      <td>600.369717</td>\n",
       "      <td>1439.240230</td>\n",
       "      <td>1819.188327</td>\n",
       "      <td>1228.538726</td>\n",
       "      <td>15.816360</td>\n",
       "      <td>11.578198</td>\n",
       "      <td>16.057218</td>\n",
       "      <td>20.146716</td>\n",
       "      <td>331.819136</td>\n",
       "      <td>337.162828</td>\n",
       "      <td>12.631509</td>\n",
       "      <td>2162.768666</td>\n",
       "      <td>8593.781545</td>\n",
       "      <td>3.863328</td>\n",
       "    </tr>\n",
       "    <tr>\n",
       "      <th>4</th>\n",
       "      <td>74</td>\n",
       "      <td>10031.0</td>\n",
       "      <td>0.449379</td>\n",
       "      <td>77.079529</td>\n",
       "      <td>502.401271</td>\n",
       "      <td>600.298227</td>\n",
       "      <td>1439.064004</td>\n",
       "      <td>1818.963540</td>\n",
       "      <td>1228.389046</td>\n",
       "      <td>15.807513</td>\n",
       "      <td>11.571593</td>\n",
       "      <td>16.048236</td>\n",
       "      <td>20.135888</td>\n",
       "      <td>331.626003</td>\n",
       "      <td>336.966936</td>\n",
       "      <td>12.624872</td>\n",
       "      <td>2162.619544</td>\n",
       "      <td>8593.220200</td>\n",
       "      <td>3.860818</td>\n",
       "    </tr>\n",
       "  </tbody>\n",
       "</table>\n",
       "</div>"
      ],
      "text/plain": [
       "    Y      alt      Mach        TRA          T2         T24          T30  \\\n",
       "0  74  10005.0  0.448497  76.903748  502.420918  600.148034  1438.498187   \n",
       "1  74  10013.0  0.447741  76.903748  502.326114  600.055894  1438.350208   \n",
       "2  74  10017.0  0.448938  77.079529  502.416067  600.210756  1439.109101   \n",
       "3  74  10024.0  0.449883  77.079529  502.469893  600.369717  1439.240230   \n",
       "4  74  10031.0  0.449379  77.079529  502.401271  600.298227  1439.064004   \n",
       "\n",
       "           T48          T50        P15         P2        P21        P24  \\\n",
       "0  1818.027714  1228.129848  15.806267  11.577097  16.046971  20.126624   \n",
       "1  1817.682618  1227.879113  15.795477  11.568235  16.036017  20.113218   \n",
       "2  1820.020627  1229.422522  15.807747  11.574866  16.048474  20.130956   \n",
       "3  1819.188327  1228.538726  15.816360  11.578198  16.057218  20.146716   \n",
       "4  1818.963540  1228.389046  15.807513  11.571593  16.048236  20.135888   \n",
       "\n",
       "         Ps30         P40        P50           Nf           Nc        Wf  \n",
       "0  331.293679  336.631827  12.629361  2160.926416  8591.373490  3.855337  \n",
       "1  331.109867  336.446748  12.623033  2160.909333  8590.972866  3.852319  \n",
       "2  331.753181  337.082502  12.637951  2161.819062  8593.031745  3.866201  \n",
       "3  331.819136  337.162828  12.631509  2162.768666  8593.781545  3.863328  \n",
       "4  331.626003  336.966936  12.624872  2162.619544  8593.220200  3.860818  "
      ]
     },
     "execution_count": 3,
     "metadata": {},
     "output_type": "execute_result"
    }
   ],
   "source": [
    "df.head()"
   ]
  },
  {
   "cell_type": "code",
   "execution_count": 5,
   "id": "75281a7f",
   "metadata": {},
   "outputs": [
    {
     "data": {
      "application/vnd.jupyter.widget-view+json": {
       "model_id": "37616e891abe4893b29a63b1f2a45f41",
       "version_major": 2,
       "version_minor": 0
      },
      "text/plain": [
       "                                             |          | [  0%]   00:00 -> (? left)"
      ]
     },
     "metadata": {},
     "output_type": "display_data"
    },
    {
     "name": "stdout",
     "output_type": "stream",
     "text": [
      "Report SWEETVIZ_REPORT.html was generated! NOTEBOOK/COLAB USERS: the web browser MAY not pop up, regardless, the report IS saved in your notebook/colab files.\n"
     ]
    }
   ],
   "source": [
    "import sweetviz as sv\n",
    "#You could specify which variable in your dataset is the target for your model creation. We can specify it using the target_feat parameter.\n",
    "my_report = sv.analyze(df, target_feat ='Y')\n",
    "my_report.show_html()"
   ]
  },
  {
   "cell_type": "code",
   "execution_count": 4,
   "id": "18216307",
   "metadata": {},
   "outputs": [
    {
     "data": {
      "text/plain": [
       "19"
      ]
     },
     "execution_count": 4,
     "metadata": {},
     "output_type": "execute_result"
    }
   ],
   "source": [
    "len(df.columns)"
   ]
  },
  {
   "cell_type": "code",
   "execution_count": null,
   "id": "bac9fd7d",
   "metadata": {},
   "outputs": [],
   "source": []
  }
 ],
 "metadata": {
  "kernelspec": {
   "display_name": "conda_python3",
   "language": "python",
   "name": "conda_python3"
  },
  "language_info": {
   "codemirror_mode": {
    "name": "ipython",
    "version": 3
   },
   "file_extension": ".py",
   "mimetype": "text/x-python",
   "name": "python",
   "nbconvert_exporter": "python",
   "pygments_lexer": "ipython3",
   "version": "3.8.12"
  }
 },
 "nbformat": 4,
 "nbformat_minor": 5
}
